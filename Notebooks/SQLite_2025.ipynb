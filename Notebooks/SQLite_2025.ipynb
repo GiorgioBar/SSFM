{
  "nbformat": 4,
  "nbformat_minor": 0,
  "metadata": {
    "colab": {
      "provenance": [],
      "collapsed_sections": [
        "sg5e6JOw1mZi",
        "NR-CD-6O-VWO",
        "UyBnVgRwEaOd"
      ]
    },
    "kernelspec": {
      "name": "python3",
      "display_name": "Python 3"
    },
    "language_info": {
      "name": "python"
    }
  },
  "cells": [
    {
      "cell_type": "markdown",
      "source": [
        "## SQLite\n",
        "\n",
        "SQLite is a self-contained, file-based SQL database.\n",
        "\n",
        "SQLite is not directly comparable to client/server SQL database engines such as Oracle, PostgreSQL or MySQL, it is intended to provide local data storage for individual applications and devices.\n",
        "\n",
        "SQLite comes bundled with Python and can be used in any Python applications without having to install any additional software."
      ],
      "metadata": {
        "id": "DsUNCJppy_W2"
      }
    },
    {
      "cell_type": "code",
      "source": [
        "import sqlite3\n",
        "from sqlite3 import Error\n",
        "\n",
        "print(sqlite3.version)"
      ],
      "metadata": {
        "id": "0SPGL8H_zlWx",
        "colab": {
          "base_uri": "https://localhost:8080/"
        },
        "outputId": "6ae968da-58e2-4095-d652-3650c000c655"
      },
      "execution_count": null,
      "outputs": [
        {
          "output_type": "stream",
          "name": "stdout",
          "text": [
            "2.6.0\n"
          ]
        }
      ]
    },
    {
      "cell_type": "markdown",
      "source": [
        "### Creating a connection to a SQLite database\n",
        "\n",
        "The sqlite3.**connect()** function returns a Connection object that can be used to interact with the SQLite database (that ultimately resides in a file). The database (file) will be created automatically if it does not exists."
      ],
      "metadata": {
        "id": "sg5e6JOw1mZi"
      }
    },
    {
      "cell_type": "code",
      "source": [
        "db_file= \"./journal_articles.db\"\n",
        "\n",
        "connection = None\n",
        "try:\n",
        "    connection = sqlite3.connect(db_file)\n",
        "except Error as e:\n",
        "    print(\"Cannot create the database connection.\")\n",
        "    print(e)"
      ],
      "metadata": {
        "id": "D1erXiK7FnlF"
      },
      "execution_count": null,
      "outputs": []
    },
    {
      "cell_type": "markdown",
      "source": [
        "### Creating tables\n",
        "\n",
        "In order to execute SQL statements like CREATE TABLE, you need to first create a Cursor object, by calling the **cursor()** method of the Connection object, and then pass the SQL statement to the **execute()** method of the Cursor object."
      ],
      "metadata": {
        "id": "NR-CD-6O-VWO"
      }
    },
    {
      "cell_type": "code",
      "source": [
        "sql_statement = \"\"\"\n",
        "CREATE TABLE IF NOT EXISTS journal (\n",
        "    journal_id integer PRIMARY KEY,\n",
        "    journal_name text NOT NULL,\n",
        "    publisher text DEFAULT 'Springer Nature' NOT NULL\n",
        "    );\n",
        "\"\"\"\n",
        "\n",
        "if connection is not None:\n",
        "    try:\n",
        "        cursor = connection.cursor()\n",
        "        # Create journal table\n",
        "        cursor.execute(sql_statement)\n",
        "    except Error as e:\n",
        "        print(e)\n",
        "else:\n",
        "    print(\"A valid connection object is required.\")"
      ],
      "metadata": {
        "id": "VDGsGaKvPT9a"
      },
      "execution_count": null,
      "outputs": []
    },
    {
      "cell_type": "markdown",
      "source": [
        "### Inserting data\n",
        "\n",
        "In SQLite, a column with type **INTEGER PRIMARY KEY is an alias** for the **ROWID**, a permanent unique identifier for a row. On an INSERT, if the INTEGER PRIMARY KEY column is not explicitly given a value, then it will be **filled automatically with an unused integer**, usually one more than the largest ROWID currently in use.\n",
        "\n",
        "To use a variable in a SQL statement, write a question mark (?) **as a placeholder for each argument** in the statement and substitute the actual values by providing them\n",
        "as a [Python sequence](https://docs.python.org/3/glossary.html#term-sequence) (e.g. a Python tuple) to the cursor’s execute() method."
      ],
      "metadata": {
        "id": "UyBnVgRwEaOd"
      }
    },
    {
      "cell_type": "code",
      "source": [
        "def insert_new_journal(conn, journal):\n",
        "    \"\"\"\n",
        "    Insert a new journal into the journal table\n",
        "    Parameters\n",
        "    ----------\n",
        "    conn: Connection object\n",
        "    journal: Values to bind to placeholders in sql statement (a tuple) .\n",
        "    Returns\n",
        "    -------\n",
        "    the row id of the inserted row.\n",
        "    \"\"\"\n",
        "    cursor = conn.cursor()\n",
        "    # For the question marks style, parameters must be a sequence e.g. a tuple\n",
        "    cursor.execute(\"INSERT INTO journal(journal_name, publisher) VALUES(?,?)\", journal)\n",
        "    conn.commit()\n",
        "    return cursor.lastrowid"
      ],
      "metadata": {
        "id": "Q3-mD_1DFkw8"
      },
      "execution_count": null,
      "outputs": []
    },
    {
      "cell_type": "code",
      "source": [
        "if connection is not None:\n",
        "    #  journal: Values to bind to placeholders in sql statement (a tuple).\n",
        "    journal = ('Neurocomputing', 'Elsevier');\n",
        "    journal_id = insert_new_journal(connection, journal)\n",
        "    print(f\"Data successfully inserted, journal_id: {journal_id}\")\n",
        "\n",
        "    journal = ('IEEE Access', 'IEEE');\n",
        "    journal_id = insert_new_journal(connection, journal)\n",
        "    print(f\"Data successfully inserted, journal_id: {journal_id}\")\n",
        "else:\n",
        "    print(\"A valid connection object is required.\")"
      ],
      "metadata": {
        "id": "lpJHMqbAJrGI",
        "colab": {
          "base_uri": "https://localhost:8080/"
        },
        "outputId": "44deaf47-7d1a-4445-af2f-f737d29ffd22"
      },
      "execution_count": null,
      "outputs": [
        {
          "output_type": "stream",
          "name": "stdout",
          "text": [
            "Data successfully inserted, journal_id: 1\n",
            "Data successfully inserted, journal_id: 2\n"
          ]
        }
      ]
    },
    {
      "cell_type": "markdown",
      "source": [
        "### Querying Data\n",
        "\n",
        "The **fetchall()** method of the Cursor object fetches all the rows of a query result. It returns all the rows **as a list of Python tuples**. An empty list is returned if there is no record to fetch."
      ],
      "metadata": {
        "id": "eq6oVGmwKRHx"
      }
    },
    {
      "cell_type": "code",
      "source": [
        "def select_journals_by_publisher(conn, publisher):\n",
        "    \"\"\"\n",
        "    Query journals by publisher\n",
        "    Parameters\n",
        "    ----------\n",
        "    conn: Connection object\n",
        "    publisher: Value to bind to placeholder in sql statement.\n",
        "    \"\"\"\n",
        "    cursor = conn.cursor()\n",
        "\n",
        "    # For the question marks style, parameters must be a sequence e.g. a tuple\n",
        "    cursor.execute(\"SELECT * FROM journal WHERE publisher=?\", (publisher,))\n",
        "\n",
        "    rows = cursor.fetchall()\n",
        "\n",
        "    print(\"Number of rows returned: \", len(rows))\n",
        "    for row in rows:\n",
        "        print(row)"
      ],
      "metadata": {
        "id": "vkn6mvW1L66Q"
      },
      "execution_count": null,
      "outputs": []
    },
    {
      "cell_type": "markdown",
      "source": [
        "**Never use string operations to assemble queries**, as they are vulnerable to SQL injection attacks"
      ],
      "metadata": {
        "id": "C7PStwnfpx6b"
      }
    },
    {
      "cell_type": "code",
      "source": [
        "def select_journals_by_publisher_wrong_version(conn, publisher):\n",
        "    cursor = conn.cursor()\n",
        "    sql_statement = \"SELECT * FROM journal WHERE publisher='%s'\" % publisher\n",
        "    print(sql_statement)\n",
        "    cursor.execute(sql_statement)\n",
        "\n",
        "    rows = cursor.fetchall()\n",
        "\n",
        "    print(\"Number of rows returned: \", len(rows))\n",
        "    for row in rows:\n",
        "        print(row)"
      ],
      "metadata": {
        "id": "69ZdCjycoXMU"
      },
      "execution_count": null,
      "outputs": []
    },
    {
      "cell_type": "code",
      "source": [
        "if connection is not None:\n",
        "    publisher = \"Elsevier\"\n",
        "\n",
        "    print(\"Query the database for publisher %s:\" %publisher)\n",
        "    select_journals_by_publisher(connection, publisher)\n",
        "\n",
        "    print(\"\\nQuery the database for publisher %s (wrong version):\" %publisher)\n",
        "    select_journals_by_publisher_wrong_version(connection, publisher)\n",
        "else:\n",
        "    print(\"A valid connection object is required.\")"
      ],
      "metadata": {
        "id": "Eb1kWLjEz5xg",
        "colab": {
          "base_uri": "https://localhost:8080/"
        },
        "outputId": "06655231-140b-4996-8872-5f0c825a5b9e"
      },
      "execution_count": null,
      "outputs": [
        {
          "output_type": "stream",
          "name": "stdout",
          "text": [
            "Query the database for publisher Elsevier:\n",
            "Number of rows returned:  1\n",
            "(1, 'Neurocomputing', 'Elsevier')\n",
            "\n",
            "Query the database for publisher Elsevier (wrong version):\n",
            "SELECT * FROM journal WHERE publisher='Elsevier'\n",
            "Number of rows returned:  1\n",
            "(1, 'Neurocomputing', 'Elsevier')\n"
          ]
        }
      ]
    },
    {
      "cell_type": "code",
      "source": [
        "if connection is not None:\n",
        "    publisher = \"' OR TRUE; --\"\n",
        "\n",
        "    print(\"Query the database for publisher %s:\" %publisher)\n",
        "    select_journals_by_publisher(connection, publisher)\n",
        "\n",
        "    print(\"\\nQuery the database for publisher %s (wrong version):\" %publisher)\n",
        "    select_journals_by_publisher_wrong_version(connection, publisher)\n",
        "else:\n",
        "    print(\"A valid connection object is required.\")"
      ],
      "metadata": {
        "colab": {
          "base_uri": "https://localhost:8080/"
        },
        "id": "Cg7Kx_OrpgqV",
        "outputId": "387dc594-552a-479f-890e-2106a01730c5"
      },
      "execution_count": null,
      "outputs": [
        {
          "output_type": "stream",
          "name": "stdout",
          "text": [
            "Query the database for publisher ' OR TRUE; --:\n",
            "Number of rows returned:  0\n",
            "\n",
            "Query the database for publisher ' OR TRUE; -- (wrong version):\n",
            "SELECT * FROM journal WHERE publisher='' OR TRUE; --'\n",
            "Number of rows returned:  2\n",
            "(1, 'Neurocomputing', 'Elsevier')\n",
            "(2, 'IEEE Access', 'IEEE')\n"
          ]
        }
      ]
    },
    {
      "cell_type": "markdown",
      "source": [
        "### Close the database connection"
      ],
      "metadata": {
        "id": "qOr52Z3ztxND"
      }
    },
    {
      "cell_type": "code",
      "source": [
        "if connection:\n",
        "    connection.close()"
      ],
      "metadata": {
        "id": "T-dn5sE80PcC"
      },
      "execution_count": null,
      "outputs": []
    },
    {
      "cell_type": "code",
      "source": [
        "%%shell\n",
        "jupyter nbconvert --to html  /content/SQLite_2025.ipynb"
      ],
      "metadata": {
        "id": "Mip3HZAGt-Nc"
      },
      "execution_count": null,
      "outputs": []
    }
  ]
}